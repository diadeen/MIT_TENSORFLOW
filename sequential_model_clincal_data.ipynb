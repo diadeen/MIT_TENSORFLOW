{
  "cells": [
    {
      "cell_type": "markdown",
      "metadata": {
        "id": "view-in-github",
        "colab_type": "text"
      },
      "source": [
        "<a href=\"https://colab.research.google.com/github/diadeen/MIT_TENSORFLOW/blob/main/sequential_model_clincal_data.ipynb\" target=\"_parent\"><img src=\"https://colab.research.google.com/assets/colab-badge.svg\" alt=\"Open In Colab\"/></a>"
      ]
    },
    {
      "cell_type": "code",
      "execution_count": 2,
      "id": "2034e3f2",
      "metadata": {
        "id": "2034e3f2"
      },
      "outputs": [],
      "source": [
        "import numpy as np\n",
        "from random import randint\n",
        "from sklearn.utils import shuffle\n",
        "from sklearn.preprocessing import MinMaxScaler\n",
        "import tensorflow as tf\n",
        "from tensorflow import keras\n",
        "from tensorflow.keras.models import Sequential\n",
        "from tensorflow.keras.layers import Activation, Dense\n",
        "from tensorflow.keras.optimizers import Adam\n",
        "from tensorflow.keras.metrics import categorical_crossentropy\n",
        "%matplotlib inline\n",
        "from sklearn.metrics import confusion_matrix\n",
        "import itertools\n",
        "import matplotlib.pyplot as plt\n"
      ]
    },
    {
      "cell_type": "code",
      "execution_count": 3,
      "id": "2e88d249",
      "metadata": {
        "id": "2e88d249"
      },
      "outputs": [],
      "source": [
        "train_lables=[]\n",
        "train_samples=[]"
      ]
    },
    {
      "cell_type": "code",
      "execution_count": 4,
      "id": "c6ffbf4e",
      "metadata": {
        "id": "c6ffbf4e"
      },
      "outputs": [],
      "source": [
        "for i in range(50):\n",
        "    # 5%\n",
        "    # generate random younger between 13 and 64 has side effects\n",
        "    random_younger = randint(13,64)\n",
        "    # add the items in the sample data\n",
        "    train_samples.append(random_younger)\n",
        "    train_lables.append(1) # this lable that 1 has effect\n",
        "    # generate random younger between 65 and 100 has no side effects\n",
        "    random_older = randint(65,100)\n",
        "    # add the items in the sample data\n",
        "    train_samples.append(random_older)\n",
        "    train_lables.append(0) # this lable that 1 has effect\n",
        "    \n",
        "for i in range(1000):\n",
        "    #95%\n",
        "    # generate random younger between 13 and 64 has no side effects\n",
        "    random_younger = randint(13,64)\n",
        "    # add the items in the sample data\n",
        "    train_samples.append(random_younger)\n",
        "    train_lables.append(0) # this lable that 1 has effect\n",
        "    # generate random younger between 65 and 100 has side effects\n",
        "    random_older = randint(65,100)\n",
        "    # add the items in the sample data\n",
        "    train_samples.append(random_older)\n",
        "    train_lables.append(1) # this lable that 1 has effect\n"
      ]
    },
    {
      "cell_type": "code",
      "execution_count": 5,
      "id": "0ff19cf2",
      "metadata": {
        "id": "0ff19cf2"
      },
      "outputs": [],
      "source": [
        "train_lables = np.array(train_lables)\n",
        "train_samples = np.array(train_samples)\n",
        "train_lables,train_samples = shuffle(train_lables, train_samples)"
      ]
    },
    {
      "cell_type": "code",
      "execution_count": 6,
      "id": "87ecc80c",
      "metadata": {
        "id": "87ecc80c"
      },
      "outputs": [],
      "source": [
        "scaler = MinMaxScaler(feature_range=(0,1))\n",
        "scaled_train_samples=scaler.fit_transform(train_samples.reshape(-1,1))"
      ]
    },
    {
      "cell_type": "code",
      "execution_count": 7,
      "id": "d0fadaa9",
      "metadata": {
        "id": "d0fadaa9"
      },
      "outputs": [],
      "source": [
        "model= Sequential([\n",
        "    Dense(units=16, input_shape=(1,), activation = 'relu'),\n",
        "    Dense(units=32, activation = 'relu'),\n",
        "    Dense(units=2, activation = 'softmax'),\n",
        "])"
      ]
    },
    {
      "cell_type": "code",
      "execution_count": null,
      "id": "d6b7e7b1",
      "metadata": {
        "id": "d6b7e7b1"
      },
      "outputs": [],
      "source": [
        "model.summary()"
      ]
    },
    {
      "cell_type": "code",
      "source": [
        "model.compile(optimizer=Adam(learning_rate=0.0001), loss='sparse_categorical_crossentropy', metrics=['accuracy'])"
      ],
      "metadata": {
        "id": "bAhlWOctC8-A"
      },
      "id": "bAhlWOctC8-A",
      "execution_count": 9,
      "outputs": []
    },
    {
      "cell_type": "code",
      "source": [
        "model.fit(x=scaled_train_samples, y=train_lables, validation_split=0.1, batch_size=10, epochs=30, shuffle=True, verbose=2)"
      ],
      "metadata": {
        "id": "jqNwuV5LEAbb"
      },
      "id": "jqNwuV5LEAbb",
      "execution_count": null,
      "outputs": []
    },
    {
      "cell_type": "code",
      "source": [
        "test_lables=[]\n",
        "test_samples=[]"
      ],
      "metadata": {
        "id": "c1lYpHBiEdx_"
      },
      "id": "c1lYpHBiEdx_",
      "execution_count": 11,
      "outputs": []
    },
    {
      "cell_type": "code",
      "source": [
        "for i in range(10):\n",
        "    # 5%\n",
        "    # generate random younger between 13 and 64 has side effects\n",
        "    random_younger = randint(13,64)\n",
        "    # add the items in the sample data\n",
        "    test_samples.append(random_younger)\n",
        "    test_lables.append(1) # this lable that 1 has effect\n",
        "    # generate random younger between 65 and 100 has no side effects\n",
        "    random_older = randint(65,100)\n",
        "    # add the items in the sample data\n",
        "    test_samples.append(random_older)\n",
        "    test_lables.append(0) # this lable that 1 has effect\n",
        "    \n",
        "for i in range(200):\n",
        "    #95%\n",
        "    # generate random younger between 13 and 64 has no side effects\n",
        "    random_younger = randint(13,64)\n",
        "    # add the items in the sample data\n",
        "    test_samples.append(random_younger)\n",
        "    test_lables.append(0) # this lable that 1 has effect\n",
        "    # generate random younger between 65 and 100 has side effects\n",
        "    random_older = randint(65,100)\n",
        "    # add the items in the sample data\n",
        "    test_samples.append(random_older)\n",
        "    test_lables.append(1) # this lable that 1 has effect"
      ],
      "metadata": {
        "id": "h3579u8PXMfZ"
      },
      "id": "h3579u8PXMfZ",
      "execution_count": 12,
      "outputs": []
    },
    {
      "cell_type": "code",
      "source": [
        "test_lables = np.array(test_lables)\n",
        "test_samples = np.array(test_samples)\n",
        "test_lables,test_samples = shuffle(test_lables, test_samples)\n"
      ],
      "metadata": {
        "id": "Osi30vVUYDKt"
      },
      "id": "Osi30vVUYDKt",
      "execution_count": 13,
      "outputs": []
    },
    {
      "cell_type": "code",
      "source": [
        "scaled_test_samples = scaler.fit_transform(test_samples.reshape(-1,1))"
      ],
      "metadata": {
        "id": "9dcemchUYDtO"
      },
      "id": "9dcemchUYDtO",
      "execution_count": 14,
      "outputs": []
    },
    {
      "cell_type": "code",
      "source": [
        "predictions=model.predict(x=scaled_test_samples,batch_size=10,verbose=0)"
      ],
      "metadata": {
        "id": "KOtald8fk92J"
      },
      "id": "KOtald8fk92J",
      "execution_count": 15,
      "outputs": []
    },
    {
      "cell_type": "code",
      "source": [
        "for i in predictions:\n",
        "  print(i)"
      ],
      "metadata": {
        "id": "0oX0O0wJlOiJ"
      },
      "id": "0oX0O0wJlOiJ",
      "execution_count": null,
      "outputs": []
    },
    {
      "cell_type": "code",
      "source": [
        "round_predictions= np.argmax(predictions,axis=-1)"
      ],
      "metadata": {
        "id": "AMEGPo4QmLRr"
      },
      "id": "AMEGPo4QmLRr",
      "execution_count": 17,
      "outputs": []
    },
    {
      "cell_type": "code",
      "source": [
        "for i in round_predictions:\n",
        "  print(i)"
      ],
      "metadata": {
        "id": "BTmEzujVmwL1"
      },
      "id": "BTmEzujVmwL1",
      "execution_count": null,
      "outputs": []
    },
    {
      "cell_type": "code",
      "source": [
        "cm = confusion_matrix(y_true=test_lables,y_pred=round_predictions)"
      ],
      "metadata": {
        "id": "mYKRiRZ3nyof"
      },
      "id": "mYKRiRZ3nyof",
      "execution_count": 19,
      "outputs": []
    },
    {
      "cell_type": "code",
      "source": [
        "def plot_confusion_matrix(cm, classes,\n",
        "                          normalize=False,\n",
        "                          title='Confusion matrix',\n",
        "                          cmap=plt.cm.Blues):\n",
        "    \"\"\"\n",
        "    This function prints and plots the confusion matrix.\n",
        "    Normalization can be applied by setting `normalize=True`.\n",
        "    \"\"\"\n",
        "    plt.imshow(cm, interpolation='nearest', cmap=cmap)\n",
        "    plt.title(title)\n",
        "    plt.colorbar()\n",
        "    tick_marks = np.arange(len(classes))\n",
        "    plt.xticks(tick_marks, classes, rotation=45)\n",
        "    plt.yticks(tick_marks, classes)\n",
        "\n",
        "    if normalize:\n",
        "        cm = cm.astype('float') / cm.sum(axis=1)[:, np.newaxis]\n",
        "        print(\"Normalized confusion matrix\")\n",
        "    else:\n",
        "        print('Confusion matrix, without normalization')\n",
        "\n",
        "    print(cm)\n",
        "\n",
        "    thresh = cm.max() / 2.\n",
        "    for i, j in itertools.product(range(cm.shape[0]), range(cm.shape[1])):\n",
        "        plt.text(j, i, cm[i, j],\n",
        "                 horizontalalignment=\"center\",\n",
        "                 color=\"white\" if cm[i, j] > thresh else \"black\")\n",
        "\n",
        "    plt.tight_layout()\n",
        "    plt.ylabel('True label')\n",
        "    plt.xlabel('Predicted label')"
      ],
      "metadata": {
        "id": "GaxfPjj4n74k"
      },
      "id": "GaxfPjj4n74k",
      "execution_count": 20,
      "outputs": []
    },
    {
      "cell_type": "code",
      "source": [
        "cm_plot_labels = ['no_side_effects','had_side_effetcs']\n",
        "plot_confusion_matrix(cm=cm, classes=cm_plot_labels, title='Confusion Matrix')"
      ],
      "metadata": {
        "colab": {
          "base_uri": "https://localhost:8080/",
          "height": 363
        },
        "id": "WwZqZ9y32L-U",
        "outputId": "d6601fec-bbbb-463a-ac77-9f26a6c773f1"
      },
      "id": "WwZqZ9y32L-U",
      "execution_count": 22,
      "outputs": [
        {
          "output_type": "stream",
          "name": "stdout",
          "text": [
            "Confusion matrix, without normalization\n",
            "[[193  17]\n",
            " [  9 201]]\n"
          ]
        },
        {
          "output_type": "display_data",
          "data": {
            "text/plain": [
              "<Figure size 432x288 with 2 Axes>"
            ],
            "image/png": "[encoded data removed]"
          },
          "metadata": {
            "needs_background": "light"
          }
        }
      ]
    },
    {
      "cell_type": "code",
      "source": [
        "import os.path\n",
        "if os.path.isfile('models/medical_trial_model.h5') is False:\n",
        "  model.save('models/medical_trial_model.h5')"
      ],
      "metadata": {
        "id": "Zf6-GrXz2MG_"
      },
      "id": "Zf6-GrXz2MG_",
      "execution_count": 23,
      "outputs": []
    },
    {
      "cell_type": "code",
      "source": [
        "from tensorflow.keras.models import load_model\n",
        "new_model = load_model('models/medical_trial_model.h5')"
      ],
      "metadata": {
        "id": "XtFBduFv2MJE"
      },
      "id": "XtFBduFv2MJE",
      "execution_count": 24,
      "outputs": []
    },
    {
      "cell_type": "code",
      "source": [
        "new_model.summary()"
      ],
      "metadata": {
        "id": "cy9hSBF02MLU"
      },
      "id": "cy9hSBF02MLU",
      "execution_count": null,
      "outputs": []
    },
    {
      "cell_type": "code",
      "source": [
        "new_model.get_weights()"
      ],
      "metadata": {
        "id": "YZSryiZD7Zu2"
      },
      "id": "YZSryiZD7Zu2",
      "execution_count": null,
      "outputs": []
    },
    {
      "cell_type": "code",
      "source": [
        "new_model.optimizer"
      ],
      "metadata": {
        "id": "XZWxoNwc7f9A"
      },
      "id": "XZWxoNwc7f9A",
      "execution_count": null,
      "outputs": []
    },
    {
      "cell_type": "code",
      "source": [
        "jason_string=model.to_json()"
      ],
      "metadata": {
        "id": "DQYvni3u7lGo"
      },
      "id": "DQYvni3u7lGo",
      "execution_count": 28,
      "outputs": []
    },
    {
      "cell_type": "code",
      "source": [
        "from tensorflow.keras.models import model_from_json\n",
        "model_architecture = model_from_json(jason_string)"
      ],
      "metadata": {
        "id": "otOW1tMq8K-V"
      },
      "id": "otOW1tMq8K-V",
      "execution_count": 29,
      "outputs": []
    },
    {
      "cell_type": "code",
      "source": [
        "model_architecture.summary()"
      ],
      "metadata": {
        "id": "8Y0T_HvB8LJP"
      },
      "id": "8Y0T_HvB8LJP",
      "execution_count": null,
      "outputs": []
    },
    {
      "cell_type": "code",
      "source": [
        "import os.path\n",
        "if os.path.isfile('models/my_model_weights.h5') is False:\n",
        "  model.save_weights('models/my_model_weights.h5')"
      ],
      "metadata": {
        "id": "db1DsrjoKMOP"
      },
      "id": "db1DsrjoKMOP",
      "execution_count": 32,
      "outputs": []
    },
    {
      "cell_type": "code",
      "source": [
        "model2= Sequential([\n",
        "    Dense(units=16, input_shape=(1,), activation = 'relu'),\n",
        "    Dense(units=32, activation = 'relu'),\n",
        "    Dense(units=2, activation = 'softmax'),\n",
        "])"
      ],
      "metadata": {
        "id": "FFThEc80KMWp"
      },
      "id": "FFThEc80KMWp",
      "execution_count": 33,
      "outputs": []
    },
    {
      "cell_type": "code",
      "source": [
        "model2.load_weights('models/my_model_weights.h5')"
      ],
      "metadata": {
        "id": "jWwssN788LaQ"
      },
      "id": "jWwssN788LaQ",
      "execution_count": 34,
      "outputs": []
    },
    {
      "cell_type": "code",
      "source": [
        "model2.get_weights()"
      ],
      "metadata": {
        "id": "ZAe2H4LRK9-Y"
      },
      "id": "ZAe2H4LRK9-Y",
      "execution_count": null,
      "outputs": []
    }
  ],
  "metadata": {
    "kernelspec": {
      "display_name": "Python 3 (ipykernel)",
      "language": "python",
      "name": "python3"
    },
    "language_info": {
      "codemirror_mode": {
        "name": "ipython",
        "version": 3
      },
      "file_extension": ".py",
      "mimetype": "text/x-python",
      "name": "python",
      "nbconvert_exporter": "python",
      "pygments_lexer": "ipython3",
      "version": "3.9.12"
    },
    "colab": {
      "provenance": [],
      "collapsed_sections": [],
      "include_colab_link": true
    }
  },
  "nbformat": 4,
  "nbformat_minor": 5
}